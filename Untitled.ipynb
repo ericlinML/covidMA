{
 "cells": [
  {
   "cell_type": "code",
   "execution_count": 144,
   "id": "a946bb61",
   "metadata": {},
   "outputs": [
    {
     "ename": "ModuleNotFoundError",
     "evalue": "No module named 'praw'",
     "output_type": "error",
     "traceback": [
      "\u001b[1;31m---------------------------------------------------------------------------\u001b[0m",
      "\u001b[1;31mModuleNotFoundError\u001b[0m                       Traceback (most recent call last)",
      "\u001b[1;32m~\\AppData\\Local\\Temp\\ipykernel_14104\\1491161979.py\u001b[0m in \u001b[0;36m<module>\u001b[1;34m\u001b[0m\n\u001b[0;32m      3\u001b[0m \u001b[1;33m\u001b[0m\u001b[0m\n\u001b[0;32m      4\u001b[0m \u001b[1;32mimport\u001b[0m \u001b[0mjson\u001b[0m\u001b[1;33m\u001b[0m\u001b[1;33m\u001b[0m\u001b[0m\n\u001b[1;32m----> 5\u001b[1;33m \u001b[1;32mimport\u001b[0m \u001b[0mpraw\u001b[0m\u001b[1;33m\u001b[0m\u001b[1;33m\u001b[0m\u001b[0m\n\u001b[0m",
      "\u001b[1;31mModuleNotFoundError\u001b[0m: No module named 'praw'"
     ]
    }
   ],
   "source": [
    "import numpy as np\n",
    "import pandas as pd"
   ]
  },
  {
   "cell_type": "code",
   "execution_count": 4,
   "id": "24c198e2",
   "metadata": {},
   "outputs": [],
   "source": [
    "df = pd.read_excel('covid-19-raw-data-7-21-2022.xlsx', sheet_name=None)"
   ]
  },
  {
   "cell_type": "code",
   "execution_count": 10,
   "id": "128e3e41",
   "metadata": {},
   "outputs": [
    {
     "name": "stdout",
     "output_type": "stream",
     "text": [
      "Data Documentation\n",
      "Weekly_Town_Reference\n",
      "Age Means Last2Weeks\n",
      "AgeLast2Weeks\n",
      "Cases (Report Date)\n",
      "CasesbyAge\n",
      "CasesByDate (Test Date)\n",
      "CasesByDate_Probable\n",
      "CountyCasesDeaths (Report Date)\n",
      "County_Weekly\n",
      "CountyDeaths\n",
      "DateofDeath\n",
      "DeathsReported (Report Date)\n",
      "DeathCharacteristics\n",
      "HigherEd_CasesandTests\n",
      "HospBed-Hospital COVID Census\n",
      "HospBedAvailable-Regional\n",
      "New Hospital Demographic Data\n",
      "Hospitalization from Hospitals\n",
      "LTC Facilities\n",
      "RaceEthnicityLast2Weeks\n",
      "SexLast2Weeks\n",
      "Testing2 (Report Date)\n",
      "TestingByDate (Test Date)\n",
      "TestingPosByAge\n",
      "Weekly_City_Town\n",
      "Weekly_Statewide\n",
      "Clusters\n",
      "Isolation and Quarantine\n",
      "Contact Tracing\n",
      "CTC workforce\n",
      "Counts by Specimen Date (Sero)\n"
     ]
    }
   ],
   "source": [
    "for item in df.keys():\n",
    "    print(item)"
   ]
  },
  {
   "cell_type": "markdown",
   "id": "75c1ed6e",
   "metadata": {},
   "source": [
    "### Cases"
   ]
  },
  {
   "cell_type": "code",
   "execution_count": 62,
   "id": "be100262",
   "metadata": {},
   "outputs": [
    {
     "data": {
      "text/html": [
       "<div>\n",
       "<style scoped>\n",
       "    .dataframe tbody tr th:only-of-type {\n",
       "        vertical-align: middle;\n",
       "    }\n",
       "\n",
       "    .dataframe tbody tr th {\n",
       "        vertical-align: top;\n",
       "    }\n",
       "\n",
       "    .dataframe thead th {\n",
       "        text-align: right;\n",
       "    }\n",
       "</style>\n",
       "<table border=\"1\" class=\"dataframe\">\n",
       "  <thead>\n",
       "    <tr style=\"text-align: right;\">\n",
       "      <th></th>\n",
       "      <th>Date</th>\n",
       "      <th>Positive Total</th>\n",
       "      <th>Positive New</th>\n",
       "      <th>Probable Total</th>\n",
       "      <th>Probable New</th>\n",
       "    </tr>\n",
       "  </thead>\n",
       "  <tbody>\n",
       "    <tr>\n",
       "      <th>0</th>\n",
       "      <td>2020-06-01</td>\n",
       "      <td>97291</td>\n",
       "      <td>326</td>\n",
       "      <td>NaN</td>\n",
       "      <td>NaN</td>\n",
       "    </tr>\n",
       "    <tr>\n",
       "      <th>1</th>\n",
       "      <td>2020-06-02</td>\n",
       "      <td>97539</td>\n",
       "      <td>248</td>\n",
       "      <td>NaN</td>\n",
       "      <td>NaN</td>\n",
       "    </tr>\n",
       "    <tr>\n",
       "      <th>2</th>\n",
       "      <td>2020-06-03</td>\n",
       "      <td>97964</td>\n",
       "      <td>425</td>\n",
       "      <td>NaN</td>\n",
       "      <td>NaN</td>\n",
       "    </tr>\n",
       "    <tr>\n",
       "      <th>3</th>\n",
       "      <td>2020-06-04</td>\n",
       "      <td>98376</td>\n",
       "      <td>412</td>\n",
       "      <td>NaN</td>\n",
       "      <td>NaN</td>\n",
       "    </tr>\n",
       "    <tr>\n",
       "      <th>4</th>\n",
       "      <td>2020-06-05</td>\n",
       "      <td>98796</td>\n",
       "      <td>420</td>\n",
       "      <td>NaN</td>\n",
       "      <td>NaN</td>\n",
       "    </tr>\n",
       "    <tr>\n",
       "      <th>...</th>\n",
       "      <td>...</td>\n",
       "      <td>...</td>\n",
       "      <td>...</td>\n",
       "      <td>...</td>\n",
       "      <td>...</td>\n",
       "    </tr>\n",
       "    <tr>\n",
       "      <th>642</th>\n",
       "      <td>2022-07-06</td>\n",
       "      <td>1772542</td>\n",
       "      <td>1115</td>\n",
       "      <td>159804.0</td>\n",
       "      <td>202.0</td>\n",
       "    </tr>\n",
       "    <tr>\n",
       "      <th>643</th>\n",
       "      <td>2022-07-07</td>\n",
       "      <td>1774241</td>\n",
       "      <td>1699</td>\n",
       "      <td>160143.0</td>\n",
       "      <td>339.0</td>\n",
       "    </tr>\n",
       "    <tr>\n",
       "      <th>644</th>\n",
       "      <td>2022-07-08</td>\n",
       "      <td>1776091</td>\n",
       "      <td>1850</td>\n",
       "      <td>160356.0</td>\n",
       "      <td>213.0</td>\n",
       "    </tr>\n",
       "    <tr>\n",
       "      <th>645</th>\n",
       "      <td>2022-07-14</td>\n",
       "      <td>1783187</td>\n",
       "      <td>7096</td>\n",
       "      <td>161132.0</td>\n",
       "      <td>776.0</td>\n",
       "    </tr>\n",
       "    <tr>\n",
       "      <th>646</th>\n",
       "      <td>2022-07-21</td>\n",
       "      <td>1793437</td>\n",
       "      <td>10250</td>\n",
       "      <td>162407.0</td>\n",
       "      <td>1275.0</td>\n",
       "    </tr>\n",
       "  </tbody>\n",
       "</table>\n",
       "<p>647 rows × 5 columns</p>\n",
       "</div>"
      ],
      "text/plain": [
       "          Date  Positive Total  Positive New  Probable Total  Probable New\n",
       "0   2020-06-01           97291           326             NaN           NaN\n",
       "1   2020-06-02           97539           248             NaN           NaN\n",
       "2   2020-06-03           97964           425             NaN           NaN\n",
       "3   2020-06-04           98376           412             NaN           NaN\n",
       "4   2020-06-05           98796           420             NaN           NaN\n",
       "..         ...             ...           ...             ...           ...\n",
       "642 2022-07-06         1772542          1115        159804.0         202.0\n",
       "643 2022-07-07         1774241          1699        160143.0         339.0\n",
       "644 2022-07-08         1776091          1850        160356.0         213.0\n",
       "645 2022-07-14         1783187          7096        161132.0         776.0\n",
       "646 2022-07-21         1793437         10250        162407.0        1275.0\n",
       "\n",
       "[647 rows x 5 columns]"
      ]
     },
     "execution_count": 62,
     "metadata": {},
     "output_type": "execute_result"
    }
   ],
   "source": [
    "df['Cases (Report Date)'].drop(axis=1, labels='Estimated active cases')"
   ]
  },
  {
   "cell_type": "code",
   "execution_count": 65,
   "id": "27367b10",
   "metadata": {},
   "outputs": [],
   "source": [
    "casesDf = df['Cases (Report Date)'].drop(axis=1, labels='Estimated active cases')"
   ]
  },
  {
   "cell_type": "code",
   "execution_count": 66,
   "id": "9c447cb5",
   "metadata": {},
   "outputs": [],
   "source": [
    "casesDf.dropna(inplace=True)"
   ]
  },
  {
   "cell_type": "code",
   "execution_count": 69,
   "id": "dd40aebc",
   "metadata": {},
   "outputs": [
    {
     "data": {
      "text/plain": [
       "Date              2022-07-21 00:00:00\n",
       "Positive Total                1793437\n",
       "Positive New                    10250\n",
       "Probable Total               162407.0\n",
       "Probable New                   1275.0\n",
       "Name: 646, dtype: object"
      ]
     },
     "execution_count": 69,
     "metadata": {},
     "output_type": "execute_result"
    }
   ],
   "source": [
    "casesDf.iloc[-1,:]"
   ]
  },
  {
   "cell_type": "code",
   "execution_count": 70,
   "id": "fe1bbc49",
   "metadata": {},
   "outputs": [],
   "source": [
    "casesRow = casesDf.iloc[-1,:]"
   ]
  },
  {
   "cell_type": "code",
   "execution_count": 72,
   "id": "829022d0",
   "metadata": {},
   "outputs": [],
   "source": [
    "casesDate = str(casesRow['Date'])[:10]"
   ]
  },
  {
   "cell_type": "code",
   "execution_count": 73,
   "id": "64597e69",
   "metadata": {},
   "outputs": [
    {
     "data": {
      "text/plain": [
       "'2022-07-21'"
      ]
     },
     "execution_count": 73,
     "metadata": {},
     "output_type": "execute_result"
    }
   ],
   "source": [
    "casesDate"
   ]
  },
  {
   "cell_type": "code",
   "execution_count": 75,
   "id": "b797a151",
   "metadata": {},
   "outputs": [],
   "source": [
    "cases = casesRow['Positive New']"
   ]
  },
  {
   "cell_type": "code",
   "execution_count": 76,
   "id": "03e855c9",
   "metadata": {},
   "outputs": [
    {
     "data": {
      "text/plain": [
       "10250"
      ]
     },
     "execution_count": 76,
     "metadata": {},
     "output_type": "execute_result"
    }
   ],
   "source": [
    "cases"
   ]
  },
  {
   "cell_type": "code",
   "execution_count": null,
   "id": "7efc5ac8",
   "metadata": {},
   "outputs": [],
   "source": []
  },
  {
   "cell_type": "code",
   "execution_count": 45,
   "id": "41a87e60",
   "metadata": {},
   "outputs": [],
   "source": [
    "casesDate = str(df['Cases (Report Date)']['Date'].to_list()[-1])[:10]"
   ]
  },
  {
   "cell_type": "code",
   "execution_count": 46,
   "id": "2680e21d",
   "metadata": {},
   "outputs": [
    {
     "name": "stdout",
     "output_type": "stream",
     "text": [
      "2022-07-21\n"
     ]
    }
   ],
   "source": [
    "print(casesDate)"
   ]
  },
  {
   "cell_type": "code",
   "execution_count": 47,
   "id": "b569fef6",
   "metadata": {},
   "outputs": [],
   "source": [
    "cases = df['Cases (Report Date)']['Positive New'].values[-1]"
   ]
  },
  {
   "cell_type": "code",
   "execution_count": 48,
   "id": "5bdf73ed",
   "metadata": {},
   "outputs": [
    {
     "data": {
      "text/plain": [
       "10250"
      ]
     },
     "execution_count": 48,
     "metadata": {},
     "output_type": "execute_result"
    }
   ],
   "source": [
    "cases"
   ]
  },
  {
   "cell_type": "markdown",
   "id": "d8d98d84",
   "metadata": {},
   "source": [
    "### Positivity"
   ]
  },
  {
   "cell_type": "code",
   "execution_count": 79,
   "id": "9f8386fc",
   "metadata": {},
   "outputs": [],
   "source": [
    "posDf = df['Weekly_Statewide'].dropna()"
   ]
  },
  {
   "cell_type": "code",
   "execution_count": 81,
   "id": "93382bac",
   "metadata": {},
   "outputs": [],
   "source": [
    "posRow = posDf.iloc[-1, :]"
   ]
  },
  {
   "cell_type": "code",
   "execution_count": 84,
   "id": "ad6b8a57",
   "metadata": {},
   "outputs": [],
   "source": [
    "positivity = posRow['Percent Positivity'] * 100"
   ]
  },
  {
   "cell_type": "code",
   "execution_count": 88,
   "id": "87f83250",
   "metadata": {},
   "outputs": [
    {
     "data": {
      "text/plain": [
       "0.07938202647066536"
      ]
     },
     "execution_count": 88,
     "metadata": {},
     "output_type": "execute_result"
    }
   ],
   "source": [
    "positivity"
   ]
  },
  {
   "cell_type": "code",
   "execution_count": 86,
   "id": "9eb011b4",
   "metadata": {},
   "outputs": [],
   "source": [
    "# 14d collection ending on stated date but is reported only by the current date\n",
    "positivityDate = str(posRow['End Date'])[:10]"
   ]
  },
  {
   "cell_type": "code",
   "execution_count": 87,
   "id": "40024f8c",
   "metadata": {},
   "outputs": [
    {
     "data": {
      "text/plain": [
       "'2022-07-16'"
      ]
     },
     "execution_count": 87,
     "metadata": {},
     "output_type": "execute_result"
    }
   ],
   "source": [
    "positivityDate"
   ]
  },
  {
   "cell_type": "code",
   "execution_count": null,
   "id": "bb97c755",
   "metadata": {},
   "outputs": [],
   "source": []
  },
  {
   "cell_type": "code",
   "execution_count": 36,
   "id": "3a84e57c",
   "metadata": {},
   "outputs": [],
   "source": [
    "positivity = df['Weekly_Statewide']['Percent Positivity'].values[-1]"
   ]
  },
  {
   "cell_type": "code",
   "execution_count": 38,
   "id": "0e3d1b81",
   "metadata": {},
   "outputs": [
    {
     "data": {
      "text/plain": [
       "7.938202647066536"
      ]
     },
     "execution_count": 38,
     "metadata": {},
     "output_type": "execute_result"
    }
   ],
   "source": [
    "positivity*100"
   ]
  },
  {
   "cell_type": "code",
   "execution_count": 49,
   "id": "c54ec8de",
   "metadata": {},
   "outputs": [],
   "source": [
    "# 14d collection ending on stated date but is reported only by the current date\n",
    "positivityDate = str(df['Weekly_Statewide']['End Date'].values[-1])[:10]"
   ]
  },
  {
   "cell_type": "code",
   "execution_count": 50,
   "id": "91afe05e",
   "metadata": {
    "tags": []
   },
   "outputs": [
    {
     "data": {
      "text/plain": [
       "'2022-07-16'"
      ]
     },
     "execution_count": 50,
     "metadata": {},
     "output_type": "execute_result"
    }
   ],
   "source": [
    "positivityDate"
   ]
  },
  {
   "cell_type": "markdown",
   "id": "e839c7a0",
   "metadata": {},
   "source": [
    "### Deaths"
   ]
  },
  {
   "cell_type": "code",
   "execution_count": 51,
   "id": "cdbe0c95",
   "metadata": {},
   "outputs": [
    {
     "data": {
      "text/html": [
       "<div>\n",
       "<style scoped>\n",
       "    .dataframe tbody tr th:only-of-type {\n",
       "        vertical-align: middle;\n",
       "    }\n",
       "\n",
       "    .dataframe tbody tr th {\n",
       "        vertical-align: top;\n",
       "    }\n",
       "\n",
       "    .dataframe thead th {\n",
       "        text-align: right;\n",
       "    }\n",
       "</style>\n",
       "<table border=\"1\" class=\"dataframe\">\n",
       "  <thead>\n",
       "    <tr style=\"text-align: right;\">\n",
       "      <th></th>\n",
       "      <th>Date</th>\n",
       "      <th>DeathsConfTotal</th>\n",
       "      <th>DeathsConfNew</th>\n",
       "      <th>DeathsProbTotal</th>\n",
       "      <th>DeathsProbNew</th>\n",
       "    </tr>\n",
       "  </thead>\n",
       "  <tbody>\n",
       "    <tr>\n",
       "      <th>0</th>\n",
       "      <td>2020-06-01</td>\n",
       "      <td>6894</td>\n",
       "      <td>48</td>\n",
       "      <td>NaN</td>\n",
       "      <td>NaN</td>\n",
       "    </tr>\n",
       "    <tr>\n",
       "      <th>1</th>\n",
       "      <td>2020-06-02</td>\n",
       "      <td>6944</td>\n",
       "      <td>50</td>\n",
       "      <td>NaN</td>\n",
       "      <td>NaN</td>\n",
       "    </tr>\n",
       "    <tr>\n",
       "      <th>2</th>\n",
       "      <td>2020-06-03</td>\n",
       "      <td>7012</td>\n",
       "      <td>68</td>\n",
       "      <td>NaN</td>\n",
       "      <td>NaN</td>\n",
       "    </tr>\n",
       "    <tr>\n",
       "      <th>3</th>\n",
       "      <td>2020-06-04</td>\n",
       "      <td>7062</td>\n",
       "      <td>50</td>\n",
       "      <td>NaN</td>\n",
       "      <td>NaN</td>\n",
       "    </tr>\n",
       "    <tr>\n",
       "      <th>4</th>\n",
       "      <td>2020-06-05</td>\n",
       "      <td>7097</td>\n",
       "      <td>35</td>\n",
       "      <td>NaN</td>\n",
       "      <td>NaN</td>\n",
       "    </tr>\n",
       "    <tr>\n",
       "      <th>...</th>\n",
       "      <td>...</td>\n",
       "      <td>...</td>\n",
       "      <td>...</td>\n",
       "      <td>...</td>\n",
       "      <td>...</td>\n",
       "    </tr>\n",
       "    <tr>\n",
       "      <th>642</th>\n",
       "      <td>2022-07-06</td>\n",
       "      <td>19750</td>\n",
       "      <td>18</td>\n",
       "      <td>1246.0</td>\n",
       "      <td>8.0</td>\n",
       "    </tr>\n",
       "    <tr>\n",
       "      <th>643</th>\n",
       "      <td>2022-07-07</td>\n",
       "      <td>19768</td>\n",
       "      <td>18</td>\n",
       "      <td>1246.0</td>\n",
       "      <td>0.0</td>\n",
       "    </tr>\n",
       "    <tr>\n",
       "      <th>644</th>\n",
       "      <td>2022-07-08</td>\n",
       "      <td>19787</td>\n",
       "      <td>19</td>\n",
       "      <td>1248.0</td>\n",
       "      <td>2.0</td>\n",
       "    </tr>\n",
       "    <tr>\n",
       "      <th>645</th>\n",
       "      <td>2022-07-14</td>\n",
       "      <td>19818</td>\n",
       "      <td>31</td>\n",
       "      <td>1250.0</td>\n",
       "      <td>2.0</td>\n",
       "    </tr>\n",
       "    <tr>\n",
       "      <th>646</th>\n",
       "      <td>2022-07-21</td>\n",
       "      <td>19860</td>\n",
       "      <td>42</td>\n",
       "      <td>1267.0</td>\n",
       "      <td>17.0</td>\n",
       "    </tr>\n",
       "  </tbody>\n",
       "</table>\n",
       "<p>647 rows × 5 columns</p>\n",
       "</div>"
      ],
      "text/plain": [
       "          Date  DeathsConfTotal  DeathsConfNew  DeathsProbTotal  DeathsProbNew\n",
       "0   2020-06-01             6894             48              NaN            NaN\n",
       "1   2020-06-02             6944             50              NaN            NaN\n",
       "2   2020-06-03             7012             68              NaN            NaN\n",
       "3   2020-06-04             7062             50              NaN            NaN\n",
       "4   2020-06-05             7097             35              NaN            NaN\n",
       "..         ...              ...            ...              ...            ...\n",
       "642 2022-07-06            19750             18           1246.0            8.0\n",
       "643 2022-07-07            19768             18           1246.0            0.0\n",
       "644 2022-07-08            19787             19           1248.0            2.0\n",
       "645 2022-07-14            19818             31           1250.0            2.0\n",
       "646 2022-07-21            19860             42           1267.0           17.0\n",
       "\n",
       "[647 rows x 5 columns]"
      ]
     },
     "execution_count": 51,
     "metadata": {},
     "output_type": "execute_result"
    }
   ],
   "source": [
    "df['DeathsReported (Report Date)']"
   ]
  },
  {
   "cell_type": "code",
   "execution_count": 92,
   "id": "fd89c1ec",
   "metadata": {},
   "outputs": [],
   "source": [
    "deathsDf = df['DeathsReported (Report Date)'].dropna()"
   ]
  },
  {
   "cell_type": "code",
   "execution_count": 93,
   "id": "86e9443a",
   "metadata": {},
   "outputs": [],
   "source": [
    "deathsRow = deathsDf.iloc[-1,:]"
   ]
  },
  {
   "cell_type": "code",
   "execution_count": 103,
   "id": "4be40ea4",
   "metadata": {},
   "outputs": [
    {
     "data": {
      "text/plain": [
       "Date               2022-07-21 00:00:00\n",
       "DeathsConfTotal                  19860\n",
       "DeathsConfNew                       42\n",
       "DeathsProbTotal                 1267.0\n",
       "DeathsProbNew                     17.0\n",
       "Name: 646, dtype: object"
      ]
     },
     "execution_count": 103,
     "metadata": {},
     "output_type": "execute_result"
    }
   ],
   "source": [
    "deathsRow"
   ]
  },
  {
   "cell_type": "code",
   "execution_count": 94,
   "id": "33b1f211",
   "metadata": {},
   "outputs": [],
   "source": [
    "deaths = deathsRow['DeathsConfNew']"
   ]
  },
  {
   "cell_type": "code",
   "execution_count": 96,
   "id": "8fcafe64",
   "metadata": {},
   "outputs": [
    {
     "data": {
      "text/plain": [
       "42"
      ]
     },
     "execution_count": 96,
     "metadata": {},
     "output_type": "execute_result"
    }
   ],
   "source": [
    "deaths"
   ]
  },
  {
   "cell_type": "code",
   "execution_count": 106,
   "id": "7dc79f7a",
   "metadata": {},
   "outputs": [],
   "source": [
    "deathsDate = str(deathsRow['Date'])[:10]"
   ]
  },
  {
   "cell_type": "code",
   "execution_count": 107,
   "id": "eecde5da",
   "metadata": {},
   "outputs": [
    {
     "data": {
      "text/plain": [
       "'2022-07-21'"
      ]
     },
     "execution_count": 107,
     "metadata": {},
     "output_type": "execute_result"
    }
   ],
   "source": [
    "deathsDate"
   ]
  },
  {
   "cell_type": "code",
   "execution_count": null,
   "id": "2882f511",
   "metadata": {},
   "outputs": [],
   "source": []
  },
  {
   "cell_type": "code",
   "execution_count": 44,
   "id": "77ff5066",
   "metadata": {},
   "outputs": [],
   "source": [
    "deathsDate = str(df['DeathsReported (Report Date)']['Date'].to_list()[-1])[:10]"
   ]
  },
  {
   "cell_type": "code",
   "execution_count": 33,
   "id": "bb740e55",
   "metadata": {},
   "outputs": [],
   "source": [
    "deaths = df['DeathsReported (Report Date)']['DeathsConfNew'].to_list()[-1]"
   ]
  },
  {
   "cell_type": "code",
   "execution_count": 34,
   "id": "b52f3739",
   "metadata": {},
   "outputs": [
    {
     "data": {
      "text/plain": [
       "42"
      ]
     },
     "execution_count": 34,
     "metadata": {},
     "output_type": "execute_result"
    }
   ],
   "source": [
    "deaths"
   ]
  },
  {
   "cell_type": "markdown",
   "id": "dd484f9a",
   "metadata": {},
   "source": [
    "### Hospitalizations"
   ]
  },
  {
   "cell_type": "code",
   "execution_count": 111,
   "id": "3f057ccd",
   "metadata": {},
   "outputs": [
    {
     "data": {
      "text/html": [
       "<div>\n",
       "<style scoped>\n",
       "    .dataframe tbody tr th:only-of-type {\n",
       "        vertical-align: middle;\n",
       "    }\n",
       "\n",
       "    .dataframe tbody tr th {\n",
       "        vertical-align: top;\n",
       "    }\n",
       "\n",
       "    .dataframe thead th {\n",
       "        text-align: right;\n",
       "    }\n",
       "</style>\n",
       "<table border=\"1\" class=\"dataframe\">\n",
       "  <thead>\n",
       "    <tr style=\"text-align: right;\">\n",
       "      <th></th>\n",
       "      <th>Date</th>\n",
       "      <th>Total number of COVID patients in hospital today</th>\n",
       "      <th>Net new number of COVID patients in hospital today</th>\n",
       "      <th>7 day average of COVID hospitalizations</th>\n",
       "      <th>ICU</th>\n",
       "      <th>Net New number ICU</th>\n",
       "      <th>Intubated</th>\n",
       "      <th>Net New number intubated</th>\n",
       "      <th>Vaccinated COVID Hospitalizations</th>\n",
       "      <th>Hospitalized primarily due to COVID-19 related illness</th>\n",
       "      <th>New COVID-19 hospitalizations</th>\n",
       "    </tr>\n",
       "  </thead>\n",
       "  <tbody>\n",
       "    <tr>\n",
       "      <th>0</th>\n",
       "      <td>2020-04-04</td>\n",
       "      <td>1370.0</td>\n",
       "      <td>NaN</td>\n",
       "      <td>NaN</td>\n",
       "      <td>438.0</td>\n",
       "      <td>242.0</td>\n",
       "      <td>NaN</td>\n",
       "      <td>NaN</td>\n",
       "      <td>NaN</td>\n",
       "      <td>NaN</td>\n",
       "      <td>NaN</td>\n",
       "    </tr>\n",
       "    <tr>\n",
       "      <th>1</th>\n",
       "      <td>2020-04-05</td>\n",
       "      <td>1632.0</td>\n",
       "      <td>262.0</td>\n",
       "      <td>NaN</td>\n",
       "      <td>526.0</td>\n",
       "      <td>88.0</td>\n",
       "      <td>NaN</td>\n",
       "      <td>NaN</td>\n",
       "      <td>NaN</td>\n",
       "      <td>NaN</td>\n",
       "      <td>NaN</td>\n",
       "    </tr>\n",
       "    <tr>\n",
       "      <th>2</th>\n",
       "      <td>2020-04-06</td>\n",
       "      <td>1677.0</td>\n",
       "      <td>45.0</td>\n",
       "      <td>NaN</td>\n",
       "      <td>542.0</td>\n",
       "      <td>16.0</td>\n",
       "      <td>NaN</td>\n",
       "      <td>NaN</td>\n",
       "      <td>NaN</td>\n",
       "      <td>NaN</td>\n",
       "      <td>NaN</td>\n",
       "    </tr>\n",
       "    <tr>\n",
       "      <th>3</th>\n",
       "      <td>2020-04-07</td>\n",
       "      <td>1831.0</td>\n",
       "      <td>154.0</td>\n",
       "      <td>NaN</td>\n",
       "      <td>575.0</td>\n",
       "      <td>33.0</td>\n",
       "      <td>NaN</td>\n",
       "      <td>NaN</td>\n",
       "      <td>NaN</td>\n",
       "      <td>NaN</td>\n",
       "      <td>NaN</td>\n",
       "    </tr>\n",
       "    <tr>\n",
       "      <th>4</th>\n",
       "      <td>2020-04-08</td>\n",
       "      <td>2119.0</td>\n",
       "      <td>288.0</td>\n",
       "      <td>NaN</td>\n",
       "      <td>659.0</td>\n",
       "      <td>84.0</td>\n",
       "      <td>NaN</td>\n",
       "      <td>NaN</td>\n",
       "      <td>NaN</td>\n",
       "      <td>NaN</td>\n",
       "      <td>NaN</td>\n",
       "    </tr>\n",
       "    <tr>\n",
       "      <th>...</th>\n",
       "      <td>...</td>\n",
       "      <td>...</td>\n",
       "      <td>...</td>\n",
       "      <td>...</td>\n",
       "      <td>...</td>\n",
       "      <td>...</td>\n",
       "      <td>...</td>\n",
       "      <td>...</td>\n",
       "      <td>...</td>\n",
       "      <td>...</td>\n",
       "      <td>...</td>\n",
       "    </tr>\n",
       "    <tr>\n",
       "      <th>2595</th>\n",
       "      <td>NaT</td>\n",
       "      <td>NaN</td>\n",
       "      <td>NaN</td>\n",
       "      <td>NaN</td>\n",
       "      <td>50.0</td>\n",
       "      <td>NaN</td>\n",
       "      <td>NaN</td>\n",
       "      <td>NaN</td>\n",
       "      <td>NaN</td>\n",
       "      <td>NaN</td>\n",
       "      <td>NaN</td>\n",
       "    </tr>\n",
       "    <tr>\n",
       "      <th>2596</th>\n",
       "      <td>NaT</td>\n",
       "      <td>NaN</td>\n",
       "      <td>NaN</td>\n",
       "      <td>NaN</td>\n",
       "      <td>2.0</td>\n",
       "      <td>NaN</td>\n",
       "      <td>NaN</td>\n",
       "      <td>NaN</td>\n",
       "      <td>NaN</td>\n",
       "      <td>NaN</td>\n",
       "      <td>NaN</td>\n",
       "    </tr>\n",
       "    <tr>\n",
       "      <th>2597</th>\n",
       "      <td>NaT</td>\n",
       "      <td>NaN</td>\n",
       "      <td>NaN</td>\n",
       "      <td>NaN</td>\n",
       "      <td>94.0</td>\n",
       "      <td>NaN</td>\n",
       "      <td>NaN</td>\n",
       "      <td>NaN</td>\n",
       "      <td>NaN</td>\n",
       "      <td>NaN</td>\n",
       "      <td>NaN</td>\n",
       "    </tr>\n",
       "    <tr>\n",
       "      <th>2598</th>\n",
       "      <td>NaT</td>\n",
       "      <td>NaN</td>\n",
       "      <td>NaN</td>\n",
       "      <td>NaN</td>\n",
       "      <td>103.0</td>\n",
       "      <td>NaN</td>\n",
       "      <td>NaN</td>\n",
       "      <td>NaN</td>\n",
       "      <td>NaN</td>\n",
       "      <td>NaN</td>\n",
       "      <td>NaN</td>\n",
       "    </tr>\n",
       "    <tr>\n",
       "      <th>2599</th>\n",
       "      <td>NaT</td>\n",
       "      <td>NaN</td>\n",
       "      <td>NaN</td>\n",
       "      <td>NaN</td>\n",
       "      <td>873.0</td>\n",
       "      <td>NaN</td>\n",
       "      <td>NaN</td>\n",
       "      <td>NaN</td>\n",
       "      <td>NaN</td>\n",
       "      <td>NaN</td>\n",
       "      <td>NaN</td>\n",
       "    </tr>\n",
       "  </tbody>\n",
       "</table>\n",
       "<p>2600 rows × 11 columns</p>\n",
       "</div>"
      ],
      "text/plain": [
       "           Date  Total number of COVID patients in hospital today  \\\n",
       "0    2020-04-04                                            1370.0   \n",
       "1    2020-04-05                                            1632.0   \n",
       "2    2020-04-06                                            1677.0   \n",
       "3    2020-04-07                                            1831.0   \n",
       "4    2020-04-08                                            2119.0   \n",
       "...         ...                                               ...   \n",
       "2595        NaT                                               NaN   \n",
       "2596        NaT                                               NaN   \n",
       "2597        NaT                                               NaN   \n",
       "2598        NaT                                               NaN   \n",
       "2599        NaT                                               NaN   \n",
       "\n",
       "      Net new number of COVID patients in hospital today  \\\n",
       "0                                                   NaN    \n",
       "1                                                 262.0    \n",
       "2                                                  45.0    \n",
       "3                                                 154.0    \n",
       "4                                                 288.0    \n",
       "...                                                 ...    \n",
       "2595                                                NaN    \n",
       "2596                                                NaN    \n",
       "2597                                                NaN    \n",
       "2598                                                NaN    \n",
       "2599                                                NaN    \n",
       "\n",
       "      7 day average of COVID hospitalizations    ICU  Net New number ICU  \\\n",
       "0                                         NaN  438.0               242.0   \n",
       "1                                         NaN  526.0                88.0   \n",
       "2                                         NaN  542.0                16.0   \n",
       "3                                         NaN  575.0                33.0   \n",
       "4                                         NaN  659.0                84.0   \n",
       "...                                       ...    ...                 ...   \n",
       "2595                                      NaN   50.0                 NaN   \n",
       "2596                                      NaN    2.0                 NaN   \n",
       "2597                                      NaN   94.0                 NaN   \n",
       "2598                                      NaN  103.0                 NaN   \n",
       "2599                                      NaN  873.0                 NaN   \n",
       "\n",
       "      Intubated  Net New number intubated  Vaccinated COVID Hospitalizations  \\\n",
       "0           NaN                       NaN                                NaN   \n",
       "1           NaN                       NaN                                NaN   \n",
       "2           NaN                       NaN                                NaN   \n",
       "3           NaN                       NaN                                NaN   \n",
       "4           NaN                       NaN                                NaN   \n",
       "...         ...                       ...                                ...   \n",
       "2595        NaN                       NaN                                NaN   \n",
       "2596        NaN                       NaN                                NaN   \n",
       "2597        NaN                       NaN                                NaN   \n",
       "2598        NaN                       NaN                                NaN   \n",
       "2599        NaN                       NaN                                NaN   \n",
       "\n",
       "      Hospitalized primarily due to COVID-19 related illness  \\\n",
       "0                                                   NaN        \n",
       "1                                                   NaN        \n",
       "2                                                   NaN        \n",
       "3                                                   NaN        \n",
       "4                                                   NaN        \n",
       "...                                                 ...        \n",
       "2595                                                NaN        \n",
       "2596                                                NaN        \n",
       "2597                                                NaN        \n",
       "2598                                                NaN        \n",
       "2599                                                NaN        \n",
       "\n",
       "      New COVID-19 hospitalizations  \n",
       "0                               NaN  \n",
       "1                               NaN  \n",
       "2                               NaN  \n",
       "3                               NaN  \n",
       "4                               NaN  \n",
       "...                             ...  \n",
       "2595                            NaN  \n",
       "2596                            NaN  \n",
       "2597                            NaN  \n",
       "2598                            NaN  \n",
       "2599                            NaN  \n",
       "\n",
       "[2600 rows x 11 columns]"
      ]
     },
     "execution_count": 111,
     "metadata": {},
     "output_type": "execute_result"
    }
   ],
   "source": [
    "df['Hospitalization from Hospitals']"
   ]
  },
  {
   "cell_type": "code",
   "execution_count": 109,
   "id": "36fc6c20",
   "metadata": {},
   "outputs": [],
   "source": [
    "hospDf = df['Hospitalization from Hospitals'].dropna()"
   ]
  },
  {
   "cell_type": "code",
   "execution_count": 110,
   "id": "f0b51681",
   "metadata": {},
   "outputs": [
    {
     "data": {
      "text/html": [
       "<div>\n",
       "<style scoped>\n",
       "    .dataframe tbody tr th:only-of-type {\n",
       "        vertical-align: middle;\n",
       "    }\n",
       "\n",
       "    .dataframe tbody tr th {\n",
       "        vertical-align: top;\n",
       "    }\n",
       "\n",
       "    .dataframe thead th {\n",
       "        text-align: right;\n",
       "    }\n",
       "</style>\n",
       "<table border=\"1\" class=\"dataframe\">\n",
       "  <thead>\n",
       "    <tr style=\"text-align: right;\">\n",
       "      <th></th>\n",
       "      <th>Date</th>\n",
       "      <th>Total number of COVID patients in hospital today</th>\n",
       "      <th>Net new number of COVID patients in hospital today</th>\n",
       "      <th>7 day average of COVID hospitalizations</th>\n",
       "      <th>ICU</th>\n",
       "      <th>Net New number ICU</th>\n",
       "      <th>Intubated</th>\n",
       "      <th>Net New number intubated</th>\n",
       "      <th>Vaccinated COVID Hospitalizations</th>\n",
       "      <th>Hospitalized primarily due to COVID-19 related illness</th>\n",
       "      <th>New COVID-19 hospitalizations</th>\n",
       "    </tr>\n",
       "  </thead>\n",
       "  <tbody>\n",
       "    <tr>\n",
       "      <th>646</th>\n",
       "      <td>2022-01-10</td>\n",
       "      <td>2970.0</td>\n",
       "      <td>47.0</td>\n",
       "      <td>2732.000000</td>\n",
       "      <td>452.0</td>\n",
       "      <td>20.0</td>\n",
       "      <td>270.0</td>\n",
       "      <td>-3.0</td>\n",
       "      <td>1348.0</td>\n",
       "      <td>1298.0</td>\n",
       "      <td>400.0</td>\n",
       "    </tr>\n",
       "    <tr>\n",
       "      <th>647</th>\n",
       "      <td>2022-01-11</td>\n",
       "      <td>3087.0</td>\n",
       "      <td>117.0</td>\n",
       "      <td>2826.428571</td>\n",
       "      <td>473.0</td>\n",
       "      <td>21.0</td>\n",
       "      <td>271.0</td>\n",
       "      <td>1.0</td>\n",
       "      <td>1452.0</td>\n",
       "      <td>1588.0</td>\n",
       "      <td>463.0</td>\n",
       "    </tr>\n",
       "    <tr>\n",
       "      <th>648</th>\n",
       "      <td>2022-01-12</td>\n",
       "      <td>3180.0</td>\n",
       "      <td>93.0</td>\n",
       "      <td>2920.142857</td>\n",
       "      <td>484.0</td>\n",
       "      <td>11.0</td>\n",
       "      <td>278.0</td>\n",
       "      <td>7.0</td>\n",
       "      <td>1505.0</td>\n",
       "      <td>1618.0</td>\n",
       "      <td>440.0</td>\n",
       "    </tr>\n",
       "    <tr>\n",
       "      <th>649</th>\n",
       "      <td>2022-01-13</td>\n",
       "      <td>3223.0</td>\n",
       "      <td>43.0</td>\n",
       "      <td>3003.857143</td>\n",
       "      <td>460.0</td>\n",
       "      <td>-24.0</td>\n",
       "      <td>279.0</td>\n",
       "      <td>1.0</td>\n",
       "      <td>1547.0</td>\n",
       "      <td>1674.0</td>\n",
       "      <td>464.0</td>\n",
       "    </tr>\n",
       "    <tr>\n",
       "      <th>650</th>\n",
       "      <td>2022-01-14</td>\n",
       "      <td>3306.0</td>\n",
       "      <td>83.0</td>\n",
       "      <td>3082.285714</td>\n",
       "      <td>470.0</td>\n",
       "      <td>10.0</td>\n",
       "      <td>295.0</td>\n",
       "      <td>16.0</td>\n",
       "      <td>1550.0</td>\n",
       "      <td>1677.0</td>\n",
       "      <td>482.0</td>\n",
       "    </tr>\n",
       "    <tr>\n",
       "      <th>...</th>\n",
       "      <td>...</td>\n",
       "      <td>...</td>\n",
       "      <td>...</td>\n",
       "      <td>...</td>\n",
       "      <td>...</td>\n",
       "      <td>...</td>\n",
       "      <td>...</td>\n",
       "      <td>...</td>\n",
       "      <td>...</td>\n",
       "      <td>...</td>\n",
       "      <td>...</td>\n",
       "    </tr>\n",
       "    <tr>\n",
       "      <th>832</th>\n",
       "      <td>2022-07-15</td>\n",
       "      <td>550.0</td>\n",
       "      <td>7.0</td>\n",
       "      <td>529.142857</td>\n",
       "      <td>51.0</td>\n",
       "      <td>8.0</td>\n",
       "      <td>17.0</td>\n",
       "      <td>1.0</td>\n",
       "      <td>337.0</td>\n",
       "      <td>165.0</td>\n",
       "      <td>128.0</td>\n",
       "    </tr>\n",
       "    <tr>\n",
       "      <th>833</th>\n",
       "      <td>2022-07-16</td>\n",
       "      <td>538.0</td>\n",
       "      <td>-12.0</td>\n",
       "      <td>538.000000</td>\n",
       "      <td>58.0</td>\n",
       "      <td>7.0</td>\n",
       "      <td>19.0</td>\n",
       "      <td>2.0</td>\n",
       "      <td>319.0</td>\n",
       "      <td>163.0</td>\n",
       "      <td>100.0</td>\n",
       "    </tr>\n",
       "    <tr>\n",
       "      <th>834</th>\n",
       "      <td>2022-07-17</td>\n",
       "      <td>545.0</td>\n",
       "      <td>7.0</td>\n",
       "      <td>544.571429</td>\n",
       "      <td>56.0</td>\n",
       "      <td>-2.0</td>\n",
       "      <td>20.0</td>\n",
       "      <td>1.0</td>\n",
       "      <td>324.0</td>\n",
       "      <td>171.0</td>\n",
       "      <td>105.0</td>\n",
       "    </tr>\n",
       "    <tr>\n",
       "      <th>835</th>\n",
       "      <td>2022-07-18</td>\n",
       "      <td>579.0</td>\n",
       "      <td>34.0</td>\n",
       "      <td>551.714286</td>\n",
       "      <td>59.0</td>\n",
       "      <td>3.0</td>\n",
       "      <td>24.0</td>\n",
       "      <td>4.0</td>\n",
       "      <td>342.0</td>\n",
       "      <td>178.0</td>\n",
       "      <td>98.0</td>\n",
       "    </tr>\n",
       "    <tr>\n",
       "      <th>836</th>\n",
       "      <td>2022-07-19</td>\n",
       "      <td>589.0</td>\n",
       "      <td>10.0</td>\n",
       "      <td>557.000000</td>\n",
       "      <td>52.0</td>\n",
       "      <td>-7.0</td>\n",
       "      <td>20.0</td>\n",
       "      <td>-4.0</td>\n",
       "      <td>348.0</td>\n",
       "      <td>189.0</td>\n",
       "      <td>121.0</td>\n",
       "    </tr>\n",
       "  </tbody>\n",
       "</table>\n",
       "<p>191 rows × 11 columns</p>\n",
       "</div>"
      ],
      "text/plain": [
       "          Date  Total number of COVID patients in hospital today  \\\n",
       "646 2022-01-10                                            2970.0   \n",
       "647 2022-01-11                                            3087.0   \n",
       "648 2022-01-12                                            3180.0   \n",
       "649 2022-01-13                                            3223.0   \n",
       "650 2022-01-14                                            3306.0   \n",
       "..         ...                                               ...   \n",
       "832 2022-07-15                                             550.0   \n",
       "833 2022-07-16                                             538.0   \n",
       "834 2022-07-17                                             545.0   \n",
       "835 2022-07-18                                             579.0   \n",
       "836 2022-07-19                                             589.0   \n",
       "\n",
       "     Net new number of COVID patients in hospital today  \\\n",
       "646                                               47.0    \n",
       "647                                              117.0    \n",
       "648                                               93.0    \n",
       "649                                               43.0    \n",
       "650                                               83.0    \n",
       "..                                                 ...    \n",
       "832                                                7.0    \n",
       "833                                              -12.0    \n",
       "834                                                7.0    \n",
       "835                                               34.0    \n",
       "836                                               10.0    \n",
       "\n",
       "     7 day average of COVID hospitalizations    ICU  Net New number ICU  \\\n",
       "646                              2732.000000  452.0                20.0   \n",
       "647                              2826.428571  473.0                21.0   \n",
       "648                              2920.142857  484.0                11.0   \n",
       "649                              3003.857143  460.0               -24.0   \n",
       "650                              3082.285714  470.0                10.0   \n",
       "..                                       ...    ...                 ...   \n",
       "832                               529.142857   51.0                 8.0   \n",
       "833                               538.000000   58.0                 7.0   \n",
       "834                               544.571429   56.0                -2.0   \n",
       "835                               551.714286   59.0                 3.0   \n",
       "836                               557.000000   52.0                -7.0   \n",
       "\n",
       "     Intubated  Net New number intubated  Vaccinated COVID Hospitalizations  \\\n",
       "646      270.0                      -3.0                             1348.0   \n",
       "647      271.0                       1.0                             1452.0   \n",
       "648      278.0                       7.0                             1505.0   \n",
       "649      279.0                       1.0                             1547.0   \n",
       "650      295.0                      16.0                             1550.0   \n",
       "..         ...                       ...                                ...   \n",
       "832       17.0                       1.0                              337.0   \n",
       "833       19.0                       2.0                              319.0   \n",
       "834       20.0                       1.0                              324.0   \n",
       "835       24.0                       4.0                              342.0   \n",
       "836       20.0                      -4.0                              348.0   \n",
       "\n",
       "     Hospitalized primarily due to COVID-19 related illness  \\\n",
       "646                                             1298.0        \n",
       "647                                             1588.0        \n",
       "648                                             1618.0        \n",
       "649                                             1674.0        \n",
       "650                                             1677.0        \n",
       "..                                                 ...        \n",
       "832                                              165.0        \n",
       "833                                              163.0        \n",
       "834                                              171.0        \n",
       "835                                              178.0        \n",
       "836                                              189.0        \n",
       "\n",
       "     New COVID-19 hospitalizations  \n",
       "646                          400.0  \n",
       "647                          463.0  \n",
       "648                          440.0  \n",
       "649                          464.0  \n",
       "650                          482.0  \n",
       "..                             ...  \n",
       "832                          128.0  \n",
       "833                          100.0  \n",
       "834                          105.0  \n",
       "835                           98.0  \n",
       "836                          121.0  \n",
       "\n",
       "[191 rows x 11 columns]"
      ]
     },
     "execution_count": 110,
     "metadata": {},
     "output_type": "execute_result"
    }
   ],
   "source": [
    "hospDf "
   ]
  },
  {
   "cell_type": "code",
   "execution_count": 117,
   "id": "fe853ce7",
   "metadata": {},
   "outputs": [],
   "source": [
    "newHosp = hospDf.iloc[-1,:]"
   ]
  },
  {
   "cell_type": "code",
   "execution_count": 141,
   "id": "d61ceed3",
   "metadata": {},
   "outputs": [
    {
     "data": {
      "text/plain": [
       "Date                                                      2022-07-19 00:00:00\n",
       "Total number of COVID patients in hospital today                        589.0\n",
       "Net new number of COVID patients in hospital today                       10.0\n",
       "7 day average of COVID hospitalizations                                 557.0\n",
       "ICU                                                                      52.0\n",
       "Net New number ICU                                                       -7.0\n",
       "Intubated                                                                20.0\n",
       "Net New number intubated                                                 -4.0\n",
       "Vaccinated COVID Hospitalizations                                       348.0\n",
       "Hospitalized primarily due to COVID-19 related illness                  189.0\n",
       "New COVID-19 hospitalizations                                           121.0\n",
       "Name: 836, dtype: object"
      ]
     },
     "execution_count": 141,
     "metadata": {},
     "output_type": "execute_result"
    }
   ],
   "source": [
    "newHosp"
   ]
  },
  {
   "cell_type": "code",
   "execution_count": 142,
   "id": "8e8c5398",
   "metadata": {},
   "outputs": [
    {
     "data": {
      "text/plain": [
       "589.0"
      ]
     },
     "execution_count": 142,
     "metadata": {},
     "output_type": "execute_result"
    }
   ],
   "source": [
    "newHosp['Total number of COVID patients in hospital today']"
   ]
  },
  {
   "cell_type": "code",
   "execution_count": 119,
   "id": "cbaf148b",
   "metadata": {},
   "outputs": [
    {
     "data": {
      "text/plain": [
       "10.0"
      ]
     },
     "execution_count": 119,
     "metadata": {},
     "output_type": "execute_result"
    }
   ],
   "source": [
    "newHosp['Net new number of COVID patients in hospital today'] "
   ]
  },
  {
   "cell_type": "code",
   "execution_count": 122,
   "id": "68447d63",
   "metadata": {},
   "outputs": [
    {
     "data": {
      "text/plain": [
       "189.0"
      ]
     },
     "execution_count": 122,
     "metadata": {},
     "output_type": "execute_result"
    }
   ],
   "source": [
    "newHosp['Hospitalized primarily due to COVID-19 related illness']"
   ]
  },
  {
   "cell_type": "code",
   "execution_count": 59,
   "id": "ae955ba5",
   "metadata": {},
   "outputs": [],
   "source": [
    "hospitalPatients = df['Hospitalization from Hospitals']['Net new number of COVID patients in hospital today'].dropna().values[-1]"
   ]
  },
  {
   "cell_type": "code",
   "execution_count": 60,
   "id": "2d3406e8",
   "metadata": {},
   "outputs": [],
   "source": [
    "covidHospital = df['Hospitalization from Hospitals']['Hospitalized primarily due to COVID-19 related illness'].dropna().values[-1]"
   ]
  },
  {
   "cell_type": "code",
   "execution_count": null,
   "id": "b0ebf8a9",
   "metadata": {},
   "outputs": [],
   "source": []
  },
  {
   "cell_type": "code",
   "execution_count": 126,
   "id": "8f06d8e2",
   "metadata": {},
   "outputs": [],
   "source": [
    "def createLastRow(df):\n",
    "    lastRow = df.dropna().iloc[-1]\n",
    "    return lastRow"
   ]
  },
  {
   "cell_type": "code",
   "execution_count": 127,
   "id": "963a14c3",
   "metadata": {},
   "outputs": [],
   "source": [
    "def getDate(row, dateCol):\n",
    "    return str(row[dateCol])[:10]"
   ]
  },
  {
   "cell_type": "code",
   "execution_count": 130,
   "id": "e93123d9",
   "metadata": {},
   "outputs": [],
   "source": [
    "testRow = createLastRow(df['Hospitalization from Hospitals'])"
   ]
  },
  {
   "cell_type": "code",
   "execution_count": 131,
   "id": "f2d86499",
   "metadata": {},
   "outputs": [
    {
     "data": {
      "text/plain": [
       "'2022-07-19'"
      ]
     },
     "execution_count": 131,
     "metadata": {},
     "output_type": "execute_result"
    }
   ],
   "source": [
    "getDate(testRow, 'Date')"
   ]
  },
  {
   "cell_type": "code",
   "execution_count": 139,
   "id": "ef9aa0c5",
   "metadata": {},
   "outputs": [],
   "source": [
    "def getDate(row, *args):\n",
    "    if args:\n",
    "        return str(row[args[1]])[:10]\n",
    "    else:\n",
    "        return str(row['Date'])[:10]"
   ]
  },
  {
   "cell_type": "code",
   "execution_count": 140,
   "id": "37021425",
   "metadata": {},
   "outputs": [
    {
     "data": {
      "text/plain": [
       "'2022-07-19'"
      ]
     },
     "execution_count": 140,
     "metadata": {},
     "output_type": "execute_result"
    }
   ],
   "source": [
    "getDate(testRow)"
   ]
  },
  {
   "cell_type": "code",
   "execution_count": null,
   "id": "1f9b0448",
   "metadata": {},
   "outputs": [],
   "source": [
    "cred = 'client_secrets.json'\n",
    "with open(cred) as f:\n",
    "    creds = json.load(f)\n",
    "\n",
    "reddit = praw.Reddit(\n",
    "    client_id = creds['client_id'],\n",
    "    client_secret=creds['client_secret'],\n",
    "    user_agent=creds['user_agent'],\n",
    "    redirect_uri=creds['redirect_uri'],\n",
    "    refresh_token=creds['refresh_token']\n",
    "    )"
   ]
  }
 ],
 "metadata": {
  "kernelspec": {
   "display_name": "Python 3 (ipykernel)",
   "language": "python",
   "name": "python3"
  },
  "language_info": {
   "codemirror_mode": {
    "name": "ipython",
    "version": 3
   },
   "file_extension": ".py",
   "mimetype": "text/x-python",
   "name": "python",
   "nbconvert_exporter": "python",
   "pygments_lexer": "ipython3",
   "version": "3.7.6"
  }
 },
 "nbformat": 4,
 "nbformat_minor": 5
}
