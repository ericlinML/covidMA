{
 "cells": [
  {
   "cell_type": "code",
   "execution_count": 2,
   "metadata": {},
   "outputs": [],
   "source": [
    "import numpy as np\n",
    "import pandas as pd\n",
    "\n",
    "import datetime"
   ]
  },
  {
   "cell_type": "code",
   "execution_count": 3,
   "metadata": {},
   "outputs": [
    {
     "name": "stdout",
     "output_type": "stream",
     "text": [
      " Volume in drive C has no label.\n",
      " Volume Serial Number is A258-3823\n",
      "\n",
      " Directory of C:\\Users\\takee\\projects\\covidMA\\data\n",
      "\n",
      "08/19/2022  05:13 PM    <DIR>          .\n",
      "08/19/2022  05:13 PM    <DIR>          ..\n",
      "08/19/2022  05:12 PM         3,592,209 chapter-93-state-numbers-daily-7-28-2022.xlsx\n",
      "08/19/2022  04:48 PM         3,670,157 chapter-93-state-numbers-daily-8-19-2022.xlsx\n",
      "08/19/2022  05:12 PM               171 ~$chapter-93-state-numbers-daily-7-28-2022.xlsx\n",
      "               3 File(s)      7,262,537 bytes\n",
      "               2 Dir(s)  73,988,317,184 bytes free\n"
     ]
    }
   ],
   "source": [
    "! dir data"
   ]
  },
  {
   "cell_type": "code",
   "execution_count": 18,
   "metadata": {},
   "outputs": [],
   "source": [
    "df = pd.read_excel('data/chapter-93-state-numbers-daily-8-19-2022.xlsx', sheet_name=None)"
   ]
  },
  {
   "cell_type": "code",
   "execution_count": 19,
   "metadata": {},
   "outputs": [
    {
     "data": {
      "text/plain": [
       "dict_keys(['Notes', 'Tested_24hours', 'Tested_2020', 'Tested_2021', 'Pos_Last24', 'Pos_2020', 'Pos_2021', 'Died_last24', 'Died_2020', 'Died_2021'])"
      ]
     },
     "execution_count": 19,
     "metadata": {},
     "output_type": "execute_result"
    }
   ],
   "source": [
    "df.keys()"
   ]
  },
  {
   "cell_type": "code",
   "execution_count": 20,
   "metadata": {},
   "outputs": [
    {
     "data": {
      "text/html": [
       "<div>\n",
       "<style scoped>\n",
       "    .dataframe tbody tr th:only-of-type {\n",
       "        vertical-align: middle;\n",
       "    }\n",
       "\n",
       "    .dataframe tbody tr th {\n",
       "        vertical-align: top;\n",
       "    }\n",
       "\n",
       "    .dataframe thead th {\n",
       "        text-align: right;\n",
       "    }\n",
       "</style>\n",
       "<table border=\"1\" class=\"dataframe\">\n",
       "  <thead>\n",
       "    <tr style=\"text-align: right;\">\n",
       "      <th></th>\n",
       "      <th>Tested_24hours, Tested_2020, Post_Last24, Pos_2020, Pos_2021</th>\n",
       "      <th>Testing data aggregate all molecular, antigen, and serologic test results reported to the Department on the indicated date. An individual with results from multiple test types on the same day is only counted once in the daily counts for that day.</th>\n",
       "    </tr>\n",
       "  </thead>\n",
       "  <tbody>\n",
       "    <tr>\n",
       "      <th>0</th>\n",
       "      <td>Died_last24, Died_2020, Died_2021</td>\n",
       "      <td>The total number of deaths may differ from tho...</td>\n",
       "    </tr>\n",
       "    <tr>\n",
       "      <th>1</th>\n",
       "      <td>Date*</td>\n",
       "      <td>Dates marked with an asterix include all data ...</td>\n",
       "    </tr>\n",
       "    <tr>\n",
       "      <th>2</th>\n",
       "      <td>Died_last24</td>\n",
       "      <td>As of 7/19/2021, cases reported as died on Fri...</td>\n",
       "    </tr>\n",
       "  </tbody>\n",
       "</table>\n",
       "</div>"
      ],
      "text/plain": [
       "  Tested_24hours, Tested_2020, Post_Last24, Pos_2020, Pos_2021  \\\n",
       "0                  Died_last24, Died_2020, Died_2021             \n",
       "1                                              Date*             \n",
       "2                                        Died_last24             \n",
       "\n",
       "  Testing data aggregate all molecular, antigen, and serologic test results reported to the Department on the indicated date. An individual with results from multiple test types on the same day is only counted once in the daily counts for that day.  \n",
       "0  The total number of deaths may differ from tho...                                                                                                                                                                                                      \n",
       "1  Dates marked with an asterix include all data ...                                                                                                                                                                                                      \n",
       "2  As of 7/19/2021, cases reported as died on Fri...                                                                                                                                                                                                      "
      ]
     },
     "execution_count": 20,
     "metadata": {},
     "output_type": "execute_result"
    }
   ],
   "source": [
    "df['Notes']"
   ]
  },
  {
   "cell_type": "code",
   "execution_count": 21,
   "metadata": {},
   "outputs": [
    {
     "data": {
      "text/plain": [
       "'The total number of deaths may differ from those reported on the COVID-19 dashboard on a given day due to ongoing data cleaning efforts and newly reported laboratory information. This can happen because: previously reported probable deaths may be confirmed as additional information is reported and these deaths are not newly reported and are not included; or because duplicate data entries are identified and removed.'"
      ]
     },
     "execution_count": 21,
     "metadata": {},
     "output_type": "execute_result"
    }
   ],
   "source": [
    "df['Notes'].iloc[0,1]"
   ]
  },
  {
   "cell_type": "code",
   "execution_count": 22,
   "metadata": {},
   "outputs": [
    {
     "data": {
      "text/plain": [
       "'As of 7/19/2021, cases reported as died on Friday will be included in Monday reporting. Cases reported as died on Saturday, Sunday, or Monday will be part of Tuesday reporting.'"
      ]
     },
     "execution_count": 22,
     "metadata": {},
     "output_type": "execute_result"
    }
   ],
   "source": [
    "df['Notes'].iloc[2,1]"
   ]
  },
  {
   "cell_type": "code",
   "execution_count": 9,
   "metadata": {},
   "outputs": [],
   "source": [
    "df['Tested_24hours'].index = df['Tested_24hours']['Unnamed: 0']"
   ]
  },
  {
   "cell_type": "code",
   "execution_count": 23,
   "metadata": {},
   "outputs": [
    {
     "data": {
      "text/html": [
       "<div>\n",
       "<style scoped>\n",
       "    .dataframe tbody tr th:only-of-type {\n",
       "        vertical-align: middle;\n",
       "    }\n",
       "\n",
       "    .dataframe tbody tr th {\n",
       "        vertical-align: top;\n",
       "    }\n",
       "\n",
       "    .dataframe thead th {\n",
       "        text-align: right;\n",
       "    }\n",
       "</style>\n",
       "<table border=\"1\" class=\"dataframe\">\n",
       "  <thead>\n",
       "    <tr style=\"text-align: right;\">\n",
       "      <th></th>\n",
       "      <th>2022-08-05 00:00:00</th>\n",
       "      <th>8/8/2022*</th>\n",
       "      <th>2022-08-09 00:00:00</th>\n",
       "      <th>2022-08-10 00:00:00</th>\n",
       "      <th>2022-08-11 00:00:00</th>\n",
       "      <th>2022-08-12 00:00:00</th>\n",
       "      <th>8/15/2022*</th>\n",
       "      <th>2022-08-16 00:00:00</th>\n",
       "      <th>2022-08-17 00:00:00</th>\n",
       "      <th>2022-08-18 00:00:00</th>\n",
       "    </tr>\n",
       "  </thead>\n",
       "  <tbody>\n",
       "    <tr>\n",
       "      <th>0</th>\n",
       "      <td>20896</td>\n",
       "      <td>45071</td>\n",
       "      <td>13422</td>\n",
       "      <td>23943</td>\n",
       "      <td>23869</td>\n",
       "      <td>22154</td>\n",
       "      <td>41001</td>\n",
       "      <td>15176</td>\n",
       "      <td>22747</td>\n",
       "      <td>18468</td>\n",
       "    </tr>\n",
       "    <tr>\n",
       "      <th>1</th>\n",
       "      <td>NaN</td>\n",
       "      <td>NaN</td>\n",
       "      <td>NaN</td>\n",
       "      <td>NaN</td>\n",
       "      <td>NaN</td>\n",
       "      <td>NaN</td>\n",
       "      <td>NaN</td>\n",
       "      <td>NaN</td>\n",
       "      <td>NaN</td>\n",
       "      <td>NaN</td>\n",
       "    </tr>\n",
       "    <tr>\n",
       "      <th>2</th>\n",
       "      <td>NaN</td>\n",
       "      <td>NaN</td>\n",
       "      <td>NaN</td>\n",
       "      <td>NaN</td>\n",
       "      <td>NaN</td>\n",
       "      <td>NaN</td>\n",
       "      <td>NaN</td>\n",
       "      <td>NaN</td>\n",
       "      <td>NaN</td>\n",
       "      <td>NaN</td>\n",
       "    </tr>\n",
       "    <tr>\n",
       "      <th>3</th>\n",
       "      <td>8305</td>\n",
       "      <td>18541</td>\n",
       "      <td>6011</td>\n",
       "      <td>10166</td>\n",
       "      <td>9729</td>\n",
       "      <td>8962</td>\n",
       "      <td>17000</td>\n",
       "      <td>6460</td>\n",
       "      <td>9663</td>\n",
       "      <td>7458</td>\n",
       "    </tr>\n",
       "    <tr>\n",
       "      <th>4</th>\n",
       "      <td>12332</td>\n",
       "      <td>26189</td>\n",
       "      <td>7130</td>\n",
       "      <td>13511</td>\n",
       "      <td>13748</td>\n",
       "      <td>12908</td>\n",
       "      <td>23688</td>\n",
       "      <td>8449</td>\n",
       "      <td>12859</td>\n",
       "      <td>10661</td>\n",
       "    </tr>\n",
       "    <tr>\n",
       "      <th>...</th>\n",
       "      <td>...</td>\n",
       "      <td>...</td>\n",
       "      <td>...</td>\n",
       "      <td>...</td>\n",
       "      <td>...</td>\n",
       "      <td>...</td>\n",
       "      <td>...</td>\n",
       "      <td>...</td>\n",
       "      <td>...</td>\n",
       "      <td>...</td>\n",
       "    </tr>\n",
       "    <tr>\n",
       "      <th>470</th>\n",
       "      <td>0</td>\n",
       "      <td>&lt;5</td>\n",
       "      <td>0</td>\n",
       "      <td>0</td>\n",
       "      <td>0</td>\n",
       "      <td>0</td>\n",
       "      <td>0</td>\n",
       "      <td>0</td>\n",
       "      <td>0</td>\n",
       "      <td>0</td>\n",
       "    </tr>\n",
       "    <tr>\n",
       "      <th>471</th>\n",
       "      <td>0</td>\n",
       "      <td>0</td>\n",
       "      <td>&lt;5</td>\n",
       "      <td>&lt;5</td>\n",
       "      <td>0</td>\n",
       "      <td>0</td>\n",
       "      <td>&lt;5</td>\n",
       "      <td>0</td>\n",
       "      <td>&lt;5</td>\n",
       "      <td>&lt;5</td>\n",
       "    </tr>\n",
       "    <tr>\n",
       "      <th>472</th>\n",
       "      <td>&lt;5</td>\n",
       "      <td>14</td>\n",
       "      <td>13</td>\n",
       "      <td>7</td>\n",
       "      <td>&lt;5</td>\n",
       "      <td>7</td>\n",
       "      <td>22</td>\n",
       "      <td>5</td>\n",
       "      <td>15</td>\n",
       "      <td>10</td>\n",
       "    </tr>\n",
       "    <tr>\n",
       "      <th>473</th>\n",
       "      <td>9</td>\n",
       "      <td>11</td>\n",
       "      <td>5</td>\n",
       "      <td>7</td>\n",
       "      <td>8</td>\n",
       "      <td>5</td>\n",
       "      <td>6</td>\n",
       "      <td>&lt;5</td>\n",
       "      <td>9</td>\n",
       "      <td>&lt;5</td>\n",
       "    </tr>\n",
       "    <tr>\n",
       "      <th>474</th>\n",
       "      <td>20785</td>\n",
       "      <td>44858</td>\n",
       "      <td>13346</td>\n",
       "      <td>23839</td>\n",
       "      <td>23768</td>\n",
       "      <td>22061</td>\n",
       "      <td>40778</td>\n",
       "      <td>15114</td>\n",
       "      <td>22624</td>\n",
       "      <td>18382</td>\n",
       "    </tr>\n",
       "  </tbody>\n",
       "</table>\n",
       "<p>475 rows × 10 columns</p>\n",
       "</div>"
      ],
      "text/plain": [
       "    2022-08-05 00:00:00 8/8/2022* 2022-08-09 00:00:00 2022-08-10 00:00:00  \\\n",
       "0                 20896     45071               13422               23943   \n",
       "1                   NaN       NaN                 NaN                 NaN   \n",
       "2                   NaN       NaN                 NaN                 NaN   \n",
       "3                  8305     18541                6011               10166   \n",
       "4                 12332     26189                7130               13511   \n",
       "..                  ...       ...                 ...                 ...   \n",
       "470                   0        <5                   0                   0   \n",
       "471                   0         0                  <5                  <5   \n",
       "472                  <5        14                  13                   7   \n",
       "473                   9        11                   5                   7   \n",
       "474               20785     44858               13346               23839   \n",
       "\n",
       "    2022-08-11 00:00:00 2022-08-12 00:00:00 8/15/2022* 2022-08-16 00:00:00  \\\n",
       "0                 23869               22154      41001               15176   \n",
       "1                   NaN                 NaN        NaN                 NaN   \n",
       "2                   NaN                 NaN        NaN                 NaN   \n",
       "3                  9729                8962      17000                6460   \n",
       "4                 13748               12908      23688                8449   \n",
       "..                  ...                 ...        ...                 ...   \n",
       "470                   0                   0          0                   0   \n",
       "471                   0                   0         <5                   0   \n",
       "472                  <5                   7         22                   5   \n",
       "473                   8                   5          6                  <5   \n",
       "474               23768               22061      40778               15114   \n",
       "\n",
       "    2022-08-17 00:00:00 2022-08-18 00:00:00  \n",
       "0                 22747               18468  \n",
       "1                   NaN                 NaN  \n",
       "2                   NaN                 NaN  \n",
       "3                  9663                7458  \n",
       "4                 12859               10661  \n",
       "..                  ...                 ...  \n",
       "470                   0                   0  \n",
       "471                  <5                  <5  \n",
       "472                  15                  10  \n",
       "473                   9                  <5  \n",
       "474               22624               18382  \n",
       "\n",
       "[475 rows x 10 columns]"
      ]
     },
     "execution_count": 23,
     "metadata": {},
     "output_type": "execute_result"
    }
   ],
   "source": [
    "df['Tested_24hours'].iloc[:, -10:]"
   ]
  },
  {
   "cell_type": "code",
   "execution_count": 24,
   "metadata": {},
   "outputs": [],
   "source": [
    "varDict = {'Tested': 'Tested_24hours', 'Positive':'Pos_Last24', 'Died':'Died_last24'}"
   ]
  },
  {
   "cell_type": "code",
   "execution_count": 25,
   "metadata": {},
   "outputs": [],
   "source": [
    "def getDate(varKey, colIndex):\n",
    "    date = df[varDict[varKey]].columns[colIndex]\n",
    "    if isinstance(date, datetime.datetime):\n",
    "        return(str(date)[:10])\n",
    "    elif isinstance(date, str):\n",
    "        return(str(datetime.datetime.strptime(date[:-1], \"%m/%d/%Y\"))[:10])\n",
    "    else:\n",
    "        return f'Date parsing error for {varKey}'"
   ]
  },
  {
   "cell_type": "code",
   "execution_count": 26,
   "metadata": {},
   "outputs": [],
   "source": [
    "printDict = {}\n",
    "for varKey in varDict.keys():\n",
    "    todayData = df[varDict[varKey]].iloc[0,-1]\n",
    "    todayDate = getDate(varKey, -1)\n",
    "    lastWeekData = df[varDict[varKey]].iloc[0,-6]\n",
    "    lastWeekDate = getDate(varKey, -6)\n",
    "    \n",
    "    printDict[varKey] = [todayDate, todayData, lastWeekDate, lastWeekData]"
   ]
  },
  {
   "cell_type": "code",
   "execution_count": 27,
   "metadata": {},
   "outputs": [],
   "source": [
    "redditText = f\"\"\"\n",
    "**Daily MA Covid Numbers reported on {printDict['Tested'][0]}:**\n",
    "Individuals who tested positive: {printDict['Positive'][1]} ({printDict['Positive'][0]})\n",
    "Data from 7d prior for reference: {printDict['Positive'][3]} ({printDict['Positive'][2]})\n",
    "\n",
    "Total individuals who tested: {printDict['Tested'][1]} ({printDict['Tested'][0]})\n",
    "Data from 7d prior for reference: {printDict['Tested'][3]} ({printDict['Tested'][2]})\n",
    "\n",
    "Deaths: {printDict['Died'][1]} ({printDict['Died'][0]})\n",
    "Data from 7d prior for reference: {printDict['Died'][3]} ({printDict['Died'][2]})\n",
    "\n",
    "\n",
    "Data is drawn from the https://www.mass.gov/info-details/covid-19-response-reporting Chapter93 State Numbers Daily Report file. This data is still being reported daily on weekdays by Mass.gov.\n",
    "\n",
    "The test counts (total and positive only) include all test types that are reported that day. An individual who takes multiple tests of different types in one day is only counted once.\n",
    "The death counts can differ from the dashboard since the death counts reported here are not finalized (dashboard numbers are finalized). Deaths which are reported on Friday are rolled into Monday's reported numbers. Deaths reported from Saturday, Sunday, and Monday are rolled into Tuesday's reported numbers.\n",
    "\n",
    "Because of these peculiarities in reporting, I only show the data from 7d prior as a reference point. I defer graphical representation of COVID data to oldgrimalkin's beautiful visualizations.\n",
    "\"\"\""
   ]
  },
  {
   "cell_type": "code",
   "execution_count": 28,
   "metadata": {},
   "outputs": [
    {
     "data": {
      "text/plain": [
       "{'Tested': ['2022-08-18', 18468, '2022-08-11', 23869],\n",
       " 'Positive': ['2022-08-18', 1708, '2022-08-11', 1805],\n",
       " 'Died': ['2022-08-18', 16, '2022-08-11', 13]}"
      ]
     },
     "execution_count": 28,
     "metadata": {},
     "output_type": "execute_result"
    }
   ],
   "source": [
    "printDict"
   ]
  },
  {
   "cell_type": "code",
   "execution_count": 16,
   "metadata": {},
   "outputs": [
    {
     "name": "stdout",
     "output_type": "stream",
     "text": [
      "\n",
      "**Daily MA Covid Numbers reported on 2022-08-18:**\n",
      "Individuals who tested positive: 1708 (2022-08-18)\n",
      "Data from 7d prior for reference: 1805 (2022-08-11)\n",
      "\n",
      "Total individuals who tested: 18468 (2022-08-18)\n",
      "Data from 7d prior for reference: 23869 (2022-08-11)\n",
      "\n",
      "Deaths: 16 (2022-08-18)\n",
      "Data from 7d prior for reference: 13 (2022-08-11)\n",
      "\n",
      "\n",
      "Data is drawn from the https://www.mass.gov/info-details/covid-19-response-reporting Chapter93 State Numbers Daily Report file. This data is still being reported daily by Mass.gov.\n",
      "\n",
      "The test counts (total and positive only) include all test types that are reported that day. An individual who takes multiple tests of different types in one day is only counted once.\n",
      "The death counts can differ from the dashboard since the death counts reported here are not finalized (dashboard numbers are finalized). Deaths which are reported on Friday are rolled into Monday's reported numbers. Deaths reported from Saturday, Sunday, and Monday are rolled into Tuesday's reported numbers.\n",
      "\n",
      "Because of these peculiarities in reporting, I only show the data from 7d prior as a reference point. I defer graphical representation of COVID data to oldgrimalkin's beautiful visualizations.\n",
      "\n"
     ]
    }
   ],
   "source": [
    "print(redditText)"
   ]
  },
  {
   "cell_type": "code",
   "execution_count": null,
   "metadata": {},
   "outputs": [],
   "source": []
  }
 ],
 "metadata": {
  "kernelspec": {
   "display_name": "Python 3",
   "language": "python",
   "name": "python3"
  },
  "language_info": {
   "codemirror_mode": {
    "name": "ipython",
    "version": 3
   },
   "file_extension": ".py",
   "mimetype": "text/x-python",
   "name": "python",
   "nbconvert_exporter": "python",
   "pygments_lexer": "ipython3",
   "version": "3.8.3"
  }
 },
 "nbformat": 4,
 "nbformat_minor": 5
}
